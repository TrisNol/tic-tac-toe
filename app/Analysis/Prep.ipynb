{
 "cells": [
  {
   "cell_type": "code",
   "execution_count": 2,
   "metadata": {},
   "outputs": [],
   "source": [
    "sys.path.append(\"..\")  #\n",
    "import pandas as pd\n",
    "from utils.DB import DB\n",
    "import sys\n",
    "import matplotlib.pyplot as plt\n",
    "\n",
    "db = DB()\n",
    "def get_frame():\n",
    "    return pd.DataFrame(db.get_entries())\n"
   ]
  },
  {
   "cell_type": "code",
   "execution_count": 2,
   "metadata": {},
   "outputs": [
    {
     "data": {
      "text/plain": [
       "{'player_one_won': 4, 'player_two_won': 1, 'draws': 0}"
      ]
     },
     "execution_count": 2,
     "metadata": {},
     "output_type": "execute_result"
    }
   ],
   "source": [
    "def get_player_win_relation(frame):\n",
    "    # get the last turn --> won or draw ?\n",
    "    who_won = pd.DataFrame([turn[-1] for turn in frame.turns])\n",
    "    # latest_turn == True indicates that the current player won with this move\n",
    "    player_one_wins = who_won[(who_won.player_id == 0) &\n",
    "                              (who_won.latest_turn == True)]\n",
    "    player_two_wins = who_won[(who_won.player_id == 1) &\n",
    "                              (who_won.latest_turn == True)]\n",
    "    draws = who_won[who_won.latest_turn == False]\n",
    "    return {\n",
    "        'player_one_won': len(player_one_wins),\n",
    "        'player_two_won': len(player_two_wins),\n",
    "        'draws': len(draws)\n",
    "    }\n",
    "\n",
    "frame = get_frame()\n",
    "get_player_win_relation(frame)\n"
   ]
  },
  {
   "cell_type": "code",
   "execution_count": 40,
   "metadata": {},
   "outputs": [
    {
     "data": {
      "image/png": "[encoded data removed]",
      "text/plain": [
       "<Figure size 432x288 with 1 Axes>"
      ]
     },
     "metadata": {},
     "output_type": "display_data"
    }
   ],
   "source": [
    "def draw_win_pie(data):\n",
    "    # https://stackoverflow.com/questions/44076203/getting-percentages-in-legend-from-pie-matplotlib-pie-chart\n",
    "    plt.pie(data.values(), autopct='%1.1f%%', startangle=90)\n",
    "    plt.axis('equal')\n",
    "    labels = [f'{key}: {value}' for key, value in data.items()]\n",
    "    plt.legend(loc = 'best', labels=labels)\n",
    "    plt.show()\n",
    "\n",
    "draw_win_pie(get_player_win_relation(frame))\n"
   ]
  },
  {
   "cell_type": "code",
   "execution_count": 41,
   "metadata": {},
   "outputs": [
    {
     "data": {
      "text/plain": [
       "Timedelta('0 days 00:00:02.600000')"
      ]
     },
     "execution_count": 41,
     "metadata": {},
     "output_type": "execute_result"
    }
   ],
   "source": [
    "from datetime import datetime\n",
    "import numpy as np\n",
    "\n",
    "def avg_game_len(df):\n",
    "    date_format = \"%d.%m.%Y %H:%M:%S\"\n",
    "    date_diff = []\n",
    "    for index, row in df.iterrows():\n",
    "        diff = datetime.strptime(row.end_time, date_format) - datetime.strptime(row.start_time, date_format)\n",
    "        date_diff.append(diff)\n",
    "    df['game_len'] = date_diff\n",
    "    game_len_avg = df['game_len'].mean()\n",
    "    return game_len_avg\n",
    "\n",
    "def avg_turns(df):\n",
    "    return np.mean([len(x) for x in df.turns.values]) \n",
    "\n",
    "\n",
    "# based on current field, which is the most successful move?\n",
    "# most succsesful starting move\n",
    "avg_game_len(frame)\n",
    "# avg_turns(frame)"
   ]
  },
  {
   "cell_type": "code",
   "execution_count": 3,
   "metadata": {},
   "outputs": [
    {
     "data": {
      "text/plain": [
       "[{'player_id': 0,\n",
       "  'row': 0,\n",
       "  'column': 0,\n",
       "  'state': [[0, '', '', '', ''],\n",
       "   ['', '', '', '', ''],\n",
       "   ['', '', '', '', ''],\n",
       "   ['', '', '', '', ''],\n",
       "   ['', '', '', '', '']],\n",
       "  'turn_number': 0,\n",
       "  'latest_turn': False},\n",
       " {'player_id': 1,\n",
       "  'row': 0,\n",
       "  'column': 1,\n",
       "  'state': [[0, 1, '', '', ''],\n",
       "   ['', '', '', '', ''],\n",
       "   ['', '', '', '', ''],\n",
       "   ['', '', '', '', ''],\n",
       "   ['', '', '', '', '']],\n",
       "  'turn_number': 1,\n",
       "  'latest_turn': False},\n",
       " {'player_id': 0,\n",
       "  'row': 1,\n",
       "  'column': 0,\n",
       "  'state': [[0, 1, '', '', ''],\n",
       "   [0, '', '', '', ''],\n",
       "   ['', '', '', '', ''],\n",
       "   ['', '', '', '', ''],\n",
       "   ['', '', '', '', '']],\n",
       "  'turn_number': 2,\n",
       "  'latest_turn': False},\n",
       " {'player_id': 1,\n",
       "  'row': 1,\n",
       "  'column': 1,\n",
       "  'state': [[0, 1, '', '', ''],\n",
       "   [0, 1, '', '', ''],\n",
       "   ['', '', '', '', ''],\n",
       "   ['', '', '', '', ''],\n",
       "   ['', '', '', '', '']],\n",
       "  'turn_number': 3,\n",
       "  'latest_turn': False},\n",
       " {'player_id': 0,\n",
       "  'row': 2,\n",
       "  'column': 0,\n",
       "  'state': [[0, 1, '', '', ''],\n",
       "   [0, 1, '', '', ''],\n",
       "   [0, '', '', '', ''],\n",
       "   ['', '', '', '', ''],\n",
       "   ['', '', '', '', '']],\n",
       "  'turn_number': 4,\n",
       "  'latest_turn': False},\n",
       " {'player_id': 1,\n",
       "  'row': 2,\n",
       "  'column': 1,\n",
       "  'state': [[0, 1, '', '', ''],\n",
       "   [0, 1, '', '', ''],\n",
       "   [0, 1, '', '', ''],\n",
       "   ['', '', '', '', ''],\n",
       "   ['', '', '', '', '']],\n",
       "  'turn_number': 5,\n",
       "  'latest_turn': False},\n",
       " {'player_id': 0,\n",
       "  'row': 3,\n",
       "  'column': 0,\n",
       "  'state': [[0, 1, '', '', ''],\n",
       "   [0, 1, '', '', ''],\n",
       "   [0, 1, '', '', ''],\n",
       "   [0, '', '', '', ''],\n",
       "   ['', '', '', '', '']],\n",
       "  'turn_number': 6,\n",
       "  'latest_turn': False},\n",
       " {'player_id': 1,\n",
       "  'row': 3,\n",
       "  'column': 1,\n",
       "  'state': [[0, 1, '', '', ''],\n",
       "   [0, 1, '', '', ''],\n",
       "   [0, 1, '', '', ''],\n",
       "   [0, 1, '', '', ''],\n",
       "   ['', '', '', '', '']],\n",
       "  'turn_number': 7,\n",
       "  'latest_turn': False},\n",
       " {'player_id': 0,\n",
       "  'row': 4,\n",
       "  'column': 0,\n",
       "  'state': [[0, 1, '', '', ''],\n",
       "   [0, 1, '', '', ''],\n",
       "   [0, 1, '', '', ''],\n",
       "   [0, 1, '', '', ''],\n",
       "   [0, '', '', '', '']],\n",
       "  'turn_number': 8,\n",
       "  'latest_turn': True}]"
      ]
     },
     "execution_count": 3,
     "metadata": {},
     "output_type": "execute_result"
    }
   ],
   "source": [
    "import copy\n",
    "\n",
    "def translate_player_symbols(field, symbol_one, symbol_two):\n",
    "    field = copy.deepcopy(field) \n",
    "    for i in range(len(field)):\n",
    "        for j in range(len(field[0])):\n",
    "            if field[i][j] == symbol_one:\n",
    "                field[i][j] = 0 \n",
    "            elif field[i][j] == symbol_two:\n",
    "                field[i][j] = 1\n",
    "    return field \n",
    "\n",
    "def transform_turns(df):\n",
    "    for index, row in df.iterrows():\n",
    "        symbol_one = row['sign_player1']\n",
    "        symbol_two = row['sign_player2']\n",
    "\n",
    "        for i in range(len(row.turns)):\n",
    "            row.turns[i]['state'] = translate_player_symbols(row.turns[i]['state'], symbol_one, symbol_two)\n",
    "        df[index] = row\n",
    "        # print(df[index])\n",
    "    return df\n",
    "            \n",
    "abc = get_frame()\n",
    "transform_turns(abc).turns[0]\n",
    "        "
   ]
  },
  {
   "cell_type": "code",
   "execution_count": 4,
   "metadata": {},
   "outputs": [
    {
     "name": "stdout",
     "output_type": "stream",
     "text": [
      "[[0, 1, '', '', ''], [0, 1, '', '', ''], [0, 1, '', '', ''], [0, '', '', '', ''], ['', '', '', '', '']]\n",
      "[['0', '1', '-1', '-1', '-1'], ['0', '1', '-1', '-1', '-1'], ['0', '1', '-1', '-1', '-1'], ['0', '-1', '-1', '-1', '-1'], ['-1', '-1', '-1', '-1', '-1']]\n",
      "------------------\n",
      "[['0', '1', '-1', '-1', '-1'], ['0', '1', '-1', '-1', '-1'], ['0', '1', '-1', '-1', '-1'], ['0', '1', '-1', '-1', '-1'], ['0', '-1', '-1', '-1', '-1']]\n",
      "Recommendation --> row: 4, column: 0\n"
     ]
    },
    {
     "data": {
      "text/plain": [
       "(4, 0)"
      ]
     },
     "execution_count": 4,
     "metadata": {},
     "output_type": "execute_result"
    }
   ],
   "source": [
    "def encode_field_to_string(field: list):\n",
    "    return '\\n'.join([' '.join([str(z) if z != \"\" else \"-1\" for z in y]) for y in field])\n",
    "\n",
    "\n",
    "def decode_field_to_list(field: str):\n",
    "    return [[z for z in y.split(\" \")] for y in field.split('\\n')]\n",
    "\n",
    "def stat_move_recommendation(frame, field, player_num) -> tuple:\n",
    "    print(field)\n",
    "    moves = []  # {'current': [[]], 'next':[[]], 'won': True || False}\n",
    "    for index, row in frame.iterrows():\n",
    "        for i in range(len(row.turns)):\n",
    "            # current field state found\n",
    "            if row.turns[i]['state'] == field:\n",
    "                # increment index by two to fetch the next move executed by the current player\n",
    "                i = i+2\n",
    "                # fetch if this game has been won by the current player\n",
    "                last = row.turns[-1]\n",
    "                moves.append(\n",
    "                    {'current': field, 'next': row.turns[i]['state'], 'won': last['player_id'] == player_num and last['latest_turn'] == True})\n",
    "\n",
    "    df_recom = pd.DataFrame(moves)\n",
    "\n",
    "    # Pandas cannot group by (nested) lists so it is transformed into a string-represenatation before the groups are built\n",
    "    # 0 --> player 1, 1 --> player 2, -1 --> empty cell\n",
    "    df_recom['current'] = df_recom['current'].apply(encode_field_to_string)\n",
    "    df_recom['next'] = df_recom['next'].apply(encode_field_to_string)\n",
    "\n",
    "    # Output: Possible next moves by descending count of won games following this move\n",
    "    groups = df_recom.groupby(\"next\").agg(\n",
    "        {'current': 'first', 'next': 'first', 'won': 'sum'}).sort_values('won', ascending=False)\n",
    "    # reset the string to the nested list\n",
    "    groups['current'] = groups['current'].apply(decode_field_to_list)\n",
    "    groups['next'] = groups['next'].apply(decode_field_to_list)\n",
    "\n",
    "    print(groups.current[0])\n",
    "    print('------------------')\n",
    "    print(groups.next[0])\n",
    "\n",
    "    currentState = groups.current[0]\n",
    "    nextState = groups.next[0]\n",
    "\n",
    "    # find difference in current and next state to calculate row and column\n",
    "    row = -1\n",
    "    column = -1\n",
    "    for i in range(len(currentState)):\n",
    "        for j in range(len(currentState[i])):\n",
    "            if currentState[i][j] != nextState[i][j]:\n",
    "                row = i\n",
    "                column = j\n",
    "    if row == -1 or column == -1:\n",
    "        raise Exception('No result')\n",
    "\n",
    "    print(f\"Recommendation --> row: {row}, column: {column}\")\n",
    "    return (row, column)\n",
    "\n",
    "\n",
    "abc = get_frame()\n",
    "abc = transform_turns(abc)\n",
    "stat_move_recommendation(abc, abc.turns[0][6]['state'], 0)\n"
   ]
  },
  {
   "cell_type": "code",
   "execution_count": null,
   "metadata": {},
   "outputs": [],
   "source": [
    "def most_successful_first_move(field_size: int=3):\n",
    "    pass"
   ]
  }
 ],
 "metadata": {
  "interpreter": {
   "hash": "900519236dfcaca85547883f9b9fb598df06ece6cbdda673529852ae870c8808"
  },
  "kernelspec": {
   "display_name": "Python 3.7.3 64-bit",
   "language": "python",
   "name": "python3"
  },
  "language_info": {
   "codemirror_mode": {
    "name": "ipython",
    "version": 3
   },
   "file_extension": ".py",
   "mimetype": "text/x-python",
   "name": "python",
   "nbconvert_exporter": "python",
   "pygments_lexer": "ipython3",
   "version": "3.7.3"
  },
  "orig_nbformat": 4
 },
 "nbformat": 4,
 "nbformat_minor": 2
}
