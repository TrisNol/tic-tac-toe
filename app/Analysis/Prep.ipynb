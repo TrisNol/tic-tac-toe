{
 "cells": [
  {
   "cell_type": "code",
   "execution_count": 1,
   "metadata": {},
   "outputs": [],
   "source": [
    "sys.path.append(\"..\")  #\n",
    "import pandas as pd\n",
    "from utils.DB import DB\n",
    "import sys\n",
    "import matplotlib.pyplot as plt\n",
    "\n",
    "db = DB()\n",
    "def get_frame():\n",
    "    return pd.DataFrame(db.get_entries())\n"
   ]
  },
  {
   "cell_type": "code",
   "execution_count": 10,
   "metadata": {},
   "outputs": [
    {
     "data": {
      "text/plain": [
       "{'player_one_won': 2, 'player_two_won': 1, 'draws': 0}"
      ]
     },
     "execution_count": 10,
     "metadata": {},
     "output_type": "execute_result"
    }
   ],
   "source": [
    "def get_player_win_relation(frame):\n",
    "    # get the last turn --> won or draw ?\n",
    "    who_won = pd.DataFrame([turn[-1] for turn in frame.turns])\n",
    "    # latest_turn == True indicates that the current player won with this move\n",
    "    player_one_wins = who_won[(who_won.player_id == 0) &\n",
    "                              (who_won.latest_turn == True)]\n",
    "    player_two_wins = who_won[(who_won.player_id == 1) &\n",
    "                              (who_won.latest_turn == True)]\n",
    "    draws = who_won[who_won.latest_turn == False]\n",
    "    return {\n",
    "        'player_one_won': len(player_one_wins),\n",
    "        'player_two_won': len(player_two_wins),\n",
    "        'draws': len(draws)\n",
    "    }\n",
    "\n",
    "frame = get_frame()\n",
    "get_player_win_relation(frame)\n"
   ]
  },
  {
   "cell_type": "code",
   "execution_count": 12,
   "metadata": {},
   "outputs": [
    {
     "data": {
      "image/png": "[encoded data removed]",
      "text/plain": [
       "<Figure size 432x288 with 1 Axes>"
      ]
     },
     "metadata": {},
     "output_type": "display_data"
    }
   ],
   "source": [
    "def draw_win_pie(data):\n",
    "    # https://stackoverflow.com/questions/44076203/getting-percentages-in-legend-from-pie-matplotlib-pie-chart\n",
    "    plt.pie(data.values(), autopct='%1.1f%%', startangle=90)\n",
    "    plt.axis('equal')\n",
    "    labels = [f'{key}: {value}' for key, value in data.items()]\n",
    "    plt.legend(loc = 'best', labels=labels)\n",
    "    plt.show()\n",
    "\n",
    "\n",
    "draw_win_pie(get_player_win_relation(frame))\n"
   ]
  },
  {
   "cell_type": "code",
   "execution_count": 13,
   "metadata": {},
   "outputs": [
    {
     "data": {
      "text/plain": [
       "Timedelta('0 days 00:00:03')"
      ]
     },
     "execution_count": 13,
     "metadata": {},
     "output_type": "execute_result"
    }
   ],
   "source": [
    "from datetime import datetime\n",
    "import numpy as np\n",
    "\n",
    "def avg_game_len(df):\n",
    "    date_format = \"%d.%m.%Y %H:%M:%S\"\n",
    "    date_diff = []\n",
    "    for index, row in df.iterrows():\n",
    "        diff = datetime.strptime(row.end_time, date_format) - datetime.strptime(row.start_time, date_format)\n",
    "        date_diff.append(diff)\n",
    "    df['game_len'] = date_diff\n",
    "    game_len_avg = df['game_len'].mean()\n",
    "    return game_len_avg\n",
    "\n",
    "def avg_turns(df):\n",
    "    return np.mean([len(x) for x in df.turns.values]) \n",
    "\n",
    "\n",
    "# based on current field, which is the most successful move?\n",
    "# most succsesful starting move\n",
    "avg_game_len(frame)\n",
    "# avg_turns(frame)"
   ]
  },
  {
   "cell_type": "code",
   "execution_count": 14,
   "metadata": {},
   "outputs": [
    {
     "data": {
      "text/plain": [
       "[{'player_id': 0,\n",
       "  'row': 0,\n",
       "  'column': 0,\n",
       "  'state': [[0, '', '', '', ''],\n",
       "   ['', '', '', '', ''],\n",
       "   ['', '', '', '', ''],\n",
       "   ['', '', '', '', ''],\n",
       "   ['', '', '', '', '']],\n",
       "  'turn_number': 0,\n",
       "  'latest_turn': False},\n",
       " {'player_id': 1,\n",
       "  'row': 0,\n",
       "  'column': 1,\n",
       "  'state': [[0, 1, '', '', ''],\n",
       "   ['', '', '', '', ''],\n",
       "   ['', '', '', '', ''],\n",
       "   ['', '', '', '', ''],\n",
       "   ['', '', '', '', '']],\n",
       "  'turn_number': 1,\n",
       "  'latest_turn': False},\n",
       " {'player_id': 0,\n",
       "  'row': 1,\n",
       "  'column': 0,\n",
       "  'state': [[0, 1, '', '', ''],\n",
       "   [0, '', '', '', ''],\n",
       "   ['', '', '', '', ''],\n",
       "   ['', '', '', '', ''],\n",
       "   ['', '', '', '', '']],\n",
       "  'turn_number': 2,\n",
       "  'latest_turn': False},\n",
       " {'player_id': 1,\n",
       "  'row': 1,\n",
       "  'column': 1,\n",
       "  'state': [[0, 1, '', '', ''],\n",
       "   [0, 1, '', '', ''],\n",
       "   ['', '', '', '', ''],\n",
       "   ['', '', '', '', ''],\n",
       "   ['', '', '', '', '']],\n",
       "  'turn_number': 3,\n",
       "  'latest_turn': False},\n",
       " {'player_id': 0,\n",
       "  'row': 2,\n",
       "  'column': 0,\n",
       "  'state': [[0, 1, '', '', ''],\n",
       "   [0, 1, '', '', ''],\n",
       "   [0, '', '', '', ''],\n",
       "   ['', '', '', '', ''],\n",
       "   ['', '', '', '', '']],\n",
       "  'turn_number': 4,\n",
       "  'latest_turn': False},\n",
       " {'player_id': 1,\n",
       "  'row': 2,\n",
       "  'column': 1,\n",
       "  'state': [[0, 1, '', '', ''],\n",
       "   [0, 1, '', '', ''],\n",
       "   [0, 1, '', '', ''],\n",
       "   ['', '', '', '', ''],\n",
       "   ['', '', '', '', '']],\n",
       "  'turn_number': 5,\n",
       "  'latest_turn': False},\n",
       " {'player_id': 0,\n",
       "  'row': 3,\n",
       "  'column': 0,\n",
       "  'state': [[0, 1, '', '', ''],\n",
       "   [0, 1, '', '', ''],\n",
       "   [0, 1, '', '', ''],\n",
       "   [0, '', '', '', ''],\n",
       "   ['', '', '', '', '']],\n",
       "  'turn_number': 6,\n",
       "  'latest_turn': False},\n",
       " {'player_id': 1,\n",
       "  'row': 3,\n",
       "  'column': 1,\n",
       "  'state': [[0, 1, '', '', ''],\n",
       "   [0, 1, '', '', ''],\n",
       "   [0, 1, '', '', ''],\n",
       "   [0, 1, '', '', ''],\n",
       "   ['', '', '', '', '']],\n",
       "  'turn_number': 7,\n",
       "  'latest_turn': False},\n",
       " {'player_id': 0,\n",
       "  'row': 4,\n",
       "  'column': 0,\n",
       "  'state': [[0, 1, '', '', ''],\n",
       "   [0, 1, '', '', ''],\n",
       "   [0, 1, '', '', ''],\n",
       "   [0, 1, '', '', ''],\n",
       "   [0, '', '', '', '']],\n",
       "  'turn_number': 8,\n",
       "  'latest_turn': True}]"
      ]
     },
     "execution_count": 14,
     "metadata": {},
     "output_type": "execute_result"
    }
   ],
   "source": [
    "import copy\n",
    "\n",
    "def translate_player_symbols(field, symbol_one, symbol_two):\n",
    "    field = copy.deepcopy(field) \n",
    "    for i in range(len(field)):\n",
    "        for j in range(len(field[0])):\n",
    "            if field[i][j] == symbol_one:\n",
    "                field[i][j] = 0 \n",
    "            elif field[i][j] == symbol_two:\n",
    "                field[i][j] = 1\n",
    "    return field \n",
    "\n",
    "def transform_turns(df):\n",
    "    for index, row in df.iterrows():\n",
    "        symbol_one = row['sign_player1']\n",
    "        symbol_two = row['sign_player2']\n",
    "\n",
    "        for i in range(len(row.turns)):\n",
    "            row.turns[i]['state'] = translate_player_symbols(row.turns[i]['state'], symbol_one, symbol_two)\n",
    "        df[index] = row\n",
    "        # print(df[index])\n",
    "    return df\n",
    "            \n",
    "abc = get_frame()\n",
    "transform_turns(abc).turns[0]\n",
    "        "
   ]
  },
  {
   "cell_type": "code",
   "execution_count": 23,
   "metadata": {},
   "outputs": [
    {
     "name": "stdout",
     "output_type": "stream",
     "text": [
      "                               current                                   next  \\\n",
      "0  0 1   \\n0 1   \\n0 1   \\n0    \\n      0 1   \\n0 1   \\n0 1   \\n0 1   \\n0       \n",
      "1  0 1   \\n0 1   \\n0 1   \\n0    \\n      0 1   \\n0 1   \\n0 1   \\n0 1   \\n0       \n",
      "2  0 1   \\n0 1   \\n0 1   \\n0    \\n      0 1   \\n0 1   \\n0 1   \\n0 1 0  \\n       \n",
      "\n",
      "     won  \n",
      "0   True  \n",
      "1   True  \n",
      "2  False  \n",
      "                               current                                   next  \\\n",
      "0  0 1   \\n0 1   \\n0 1   \\n0    \\n      0 1   \\n0 1   \\n0 1   \\n0 1   \\n0       \n",
      "1  0 1   \\n0 1   \\n0 1   \\n0    \\n      0 1   \\n0 1   \\n0 1   \\n0 1   \\n0       \n",
      "2  0 1   \\n0 1   \\n0 1   \\n0    \\n      0 1   \\n0 1   \\n0 1   \\n0 1 0  \\n       \n",
      "\n",
      "     won  \n",
      "0   True  \n",
      "1   True  \n",
      "2  False  \n"
     ]
    },
    {
     "ename": "KeyError",
     "evalue": "'Column not found: False'",
     "output_type": "error",
     "traceback": [
      "\u001b[1;31m---------------------------------------------------------------------------\u001b[0m",
      "\u001b[1;31mKeyError\u001b[0m                                  Traceback (most recent call last)",
      "\u001b[1;32m~\\AppData\\Local\\Temp/ipykernel_20348/126512459.py\u001b[0m in \u001b[0;36m<module>\u001b[1;34m\u001b[0m\n\u001b[0;32m     28\u001b[0m \u001b[0mabc\u001b[0m \u001b[1;33m=\u001b[0m \u001b[0mget_frame\u001b[0m\u001b[1;33m(\u001b[0m\u001b[1;33m)\u001b[0m\u001b[1;33m\u001b[0m\u001b[1;33m\u001b[0m\u001b[0m\n\u001b[0;32m     29\u001b[0m \u001b[0mabc\u001b[0m \u001b[1;33m=\u001b[0m \u001b[0mtransform_turns\u001b[0m\u001b[1;33m(\u001b[0m\u001b[0mabc\u001b[0m\u001b[1;33m)\u001b[0m\u001b[1;33m\u001b[0m\u001b[1;33m\u001b[0m\u001b[0m\n\u001b[1;32m---> 30\u001b[1;33m \u001b[0mstat_move_recommendation\u001b[0m\u001b[1;33m(\u001b[0m\u001b[0mabc\u001b[0m\u001b[1;33m,\u001b[0m\u001b[0mabc\u001b[0m\u001b[1;33m.\u001b[0m\u001b[0mturns\u001b[0m\u001b[1;33m[\u001b[0m\u001b[1;36m0\u001b[0m\u001b[1;33m]\u001b[0m\u001b[1;33m[\u001b[0m\u001b[1;36m6\u001b[0m\u001b[1;33m]\u001b[0m\u001b[1;33m[\u001b[0m\u001b[1;34m'state'\u001b[0m\u001b[1;33m]\u001b[0m\u001b[1;33m,\u001b[0m \u001b[1;36m0\u001b[0m\u001b[1;33m,\u001b[0m \u001b[1;34m'X'\u001b[0m\u001b[1;33m,\u001b[0m \u001b[1;34m'O'\u001b[0m\u001b[1;33m)\u001b[0m\u001b[1;33m\u001b[0m\u001b[1;33m\u001b[0m\u001b[0m\n\u001b[0m",
      "\u001b[1;32m~\\AppData\\Local\\Temp/ipykernel_20348/126512459.py\u001b[0m in \u001b[0;36mstat_move_recommendation\u001b[1;34m(frame, field, player_num, symbol_one, symbol_two)\u001b[0m\n\u001b[0;32m     23\u001b[0m     \u001b[0mgroups\u001b[0m \u001b[1;33m=\u001b[0m \u001b[0mdf_recom\u001b[0m\u001b[1;33m.\u001b[0m\u001b[0mgroupby\u001b[0m\u001b[1;33m(\u001b[0m\u001b[1;34m\"next\"\u001b[0m\u001b[1;33m)\u001b[0m\u001b[1;33m\u001b[0m\u001b[1;33m\u001b[0m\u001b[0m\n\u001b[0;32m     24\u001b[0m     \u001b[0mprint\u001b[0m\u001b[1;33m(\u001b[0m\u001b[0mgroups\u001b[0m\u001b[1;33m.\u001b[0m\u001b[0mhead\u001b[0m\u001b[1;33m(\u001b[0m\u001b[1;33m)\u001b[0m\u001b[1;33m)\u001b[0m\u001b[1;33m\u001b[0m\u001b[1;33m\u001b[0m\u001b[0m\n\u001b[1;32m---> 25\u001b[1;33m     \u001b[0mprint\u001b[0m\u001b[1;33m(\u001b[0m\u001b[0mgroups\u001b[0m\u001b[1;33m[\u001b[0m\u001b[0mgroups\u001b[0m\u001b[1;33m[\u001b[0m\u001b[1;34m'won'\u001b[0m\u001b[1;33m]\u001b[0m \u001b[1;33m==\u001b[0m \u001b[1;32mTrue\u001b[0m\u001b[1;33m]\u001b[0m\u001b[1;33m)\u001b[0m\u001b[1;33m\u001b[0m\u001b[1;33m\u001b[0m\u001b[0m\n\u001b[0m\u001b[0;32m     26\u001b[0m \u001b[1;33m\u001b[0m\u001b[0m\n\u001b[0;32m     27\u001b[0m \u001b[1;33m\u001b[0m\u001b[0m\n",
      "\u001b[1;32m~\\AppData\\Local\\Programs\\Python\\Python37\\lib\\site-packages\\pandas\\core\\groupby\\generic.py\u001b[0m in \u001b[0;36m__getitem__\u001b[1;34m(self, key)\u001b[0m\n\u001b[0;32m   1601\u001b[0m                 \u001b[0mstacklevel\u001b[0m\u001b[1;33m=\u001b[0m\u001b[1;36m2\u001b[0m\u001b[1;33m,\u001b[0m\u001b[1;33m\u001b[0m\u001b[1;33m\u001b[0m\u001b[0m\n\u001b[0;32m   1602\u001b[0m             )\n\u001b[1;32m-> 1603\u001b[1;33m         \u001b[1;32mreturn\u001b[0m \u001b[0msuper\u001b[0m\u001b[1;33m(\u001b[0m\u001b[1;33m)\u001b[0m\u001b[1;33m.\u001b[0m\u001b[0m__getitem__\u001b[0m\u001b[1;33m(\u001b[0m\u001b[0mkey\u001b[0m\u001b[1;33m)\u001b[0m\u001b[1;33m\u001b[0m\u001b[1;33m\u001b[0m\u001b[0m\n\u001b[0m\u001b[0;32m   1604\u001b[0m \u001b[1;33m\u001b[0m\u001b[0m\n\u001b[0;32m   1605\u001b[0m     \u001b[1;32mdef\u001b[0m \u001b[0m_gotitem\u001b[0m\u001b[1;33m(\u001b[0m\u001b[0mself\u001b[0m\u001b[1;33m,\u001b[0m \u001b[0mkey\u001b[0m\u001b[1;33m,\u001b[0m \u001b[0mndim\u001b[0m\u001b[1;33m:\u001b[0m \u001b[0mint\u001b[0m\u001b[1;33m,\u001b[0m \u001b[0msubset\u001b[0m\u001b[1;33m=\u001b[0m\u001b[1;32mNone\u001b[0m\u001b[1;33m)\u001b[0m\u001b[1;33m:\u001b[0m\u001b[1;33m\u001b[0m\u001b[1;33m\u001b[0m\u001b[0m\n",
      "\u001b[1;32m~\\AppData\\Local\\Programs\\Python\\Python37\\lib\\site-packages\\pandas\\core\\base.py\u001b[0m in \u001b[0;36m__getitem__\u001b[1;34m(self, key)\u001b[0m\n\u001b[0;32m    228\u001b[0m         \u001b[1;32melse\u001b[0m\u001b[1;33m:\u001b[0m\u001b[1;33m\u001b[0m\u001b[1;33m\u001b[0m\u001b[0m\n\u001b[0;32m    229\u001b[0m             \u001b[1;32mif\u001b[0m \u001b[0mkey\u001b[0m \u001b[1;32mnot\u001b[0m \u001b[1;32min\u001b[0m \u001b[0mself\u001b[0m\u001b[1;33m.\u001b[0m\u001b[0mobj\u001b[0m\u001b[1;33m:\u001b[0m\u001b[1;33m\u001b[0m\u001b[1;33m\u001b[0m\u001b[0m\n\u001b[1;32m--> 230\u001b[1;33m                 \u001b[1;32mraise\u001b[0m \u001b[0mKeyError\u001b[0m\u001b[1;33m(\u001b[0m\u001b[1;34mf\"Column not found: {key}\"\u001b[0m\u001b[1;33m)\u001b[0m\u001b[1;33m\u001b[0m\u001b[1;33m\u001b[0m\u001b[0m\n\u001b[0m\u001b[0;32m    231\u001b[0m             \u001b[1;32mreturn\u001b[0m \u001b[0mself\u001b[0m\u001b[1;33m.\u001b[0m\u001b[0m_gotitem\u001b[0m\u001b[1;33m(\u001b[0m\u001b[0mkey\u001b[0m\u001b[1;33m,\u001b[0m \u001b[0mndim\u001b[0m\u001b[1;33m=\u001b[0m\u001b[1;36m1\u001b[0m\u001b[1;33m)\u001b[0m\u001b[1;33m\u001b[0m\u001b[1;33m\u001b[0m\u001b[0m\n\u001b[0;32m    232\u001b[0m \u001b[1;33m\u001b[0m\u001b[0m\n",
      "\u001b[1;31mKeyError\u001b[0m: 'Column not found: False'"
     ]
    }
   ],
   "source": [
    "def stat_move_recommendation(frame, field, player_num, symbol_one, symbol_two):\n",
    "    moves = []# {'current': [[]], 'next':[[]], 'won': True || False}\n",
    "    for index, row in frame.iterrows():\n",
    "        for i in range(len(row.turns)):\n",
    "            if row.turns[i]['state'] == field:\n",
    "                i = i+2\n",
    "                last = row.turns[-1]\n",
    "                moves.append({'current': field, 'next': row.turns[i]['state'], 'won': last['player_id'] == player_num and last['latest_turn'] == True})\n",
    "    \n",
    "    df_recom = pd.DataFrame(moves)\n",
    "    df_recom['current'] = df_recom['current'].apply(lambda x: '\\n'.join([' '.join([str(z) for z in y]) for y in x]))\n",
    "    df_recom['next'] = df_recom['next'].apply(lambda x:'\\n'.join([' '.join([str(z) for z in y]) for y in x]))\n",
    "    # df_recom = df_recom.explode('current')\n",
    "    # df_recom = df_recom.explode('next')\n",
    "\n",
    "    # df_recom['current'] = df_recom['current'].apply(tuple)\n",
    "    # df_recom['next'] = df_recom['next'].apply(tuple)\n",
    "\n",
    "    print(df_recom.head())\n",
    "    # print(df_recom.current[0])\n",
    "    # print(\"--------------------------\")\n",
    "    # print(df_recom.next[0])\n",
    "    groups = df_recom.groupby(\"next\")\n",
    "    print(groups[groups['won'] == True])\n",
    "\n",
    "\n",
    "abc = get_frame()\n",
    "abc = transform_turns(abc)\n",
    "stat_move_recommendation(abc,abc.turns[0][6]['state'], 0, 'X', 'O')\n"
   ]
  }
 ],
 "metadata": {
  "interpreter": {
   "hash": "900519236dfcaca85547883f9b9fb598df06ece6cbdda673529852ae870c8808"
  },
  "kernelspec": {
   "display_name": "Python 3.7.3 64-bit",
   "language": "python",
   "name": "python3"
  },
  "language_info": {
   "codemirror_mode": {
    "name": "ipython",
    "version": 3
   },
   "file_extension": ".py",
   "mimetype": "text/x-python",
   "name": "python",
   "nbconvert_exporter": "python",
   "pygments_lexer": "ipython3",
   "version": "3.7.3"
  },
  "orig_nbformat": 4
 },
 "nbformat": 4,
 "nbformat_minor": 2
}
